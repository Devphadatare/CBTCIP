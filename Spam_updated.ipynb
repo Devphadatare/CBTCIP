{
  "nbformat": 4,
  "nbformat_minor": 0,
  "metadata": {
    "colab": {
      "provenance": [],
      "authorship_tag": "ABX9TyMD0pOv1BeUyvlKAZs9m77l",
      "include_colab_link": true
    },
    "kernelspec": {
      "name": "python3",
      "display_name": "Python 3"
    },
    "language_info": {
      "name": "python"
    }
  },
  "cells": [
    {
      "cell_type": "markdown",
      "metadata": {
        "id": "view-in-github",
        "colab_type": "text"
      },
      "source": [
        "<a href=\"https://colab.research.google.com/github/Devphadatare/CBTCIP/blob/main/Spam_updated.ipynb\" target=\"_parent\"><img src=\"https://colab.research.google.com/assets/colab-badge.svg\" alt=\"Open In Colab\"/></a>"
      ]
    },
    {
      "cell_type": "markdown",
      "source": [
        "Spam Email Detection"
      ],
      "metadata": {
        "id": "fBCQ7tm554E5"
      }
    },
    {
      "cell_type": "markdown",
      "source": [
        "Importing Libraries"
      ],
      "metadata": {
        "id": "cELmwBxB59zy"
      }
    },
    {
      "cell_type": "code",
      "source": [
        "import pandas as pd\n",
        "import numpy as np\n",
        "import matplotlib.pyplot as plt\n",
        "import seaborn as sns\n",
        "from sklearn.feature_extraction.text import TfidfVectorizer\n",
        "from sklearn.model_selection import train_test_split\n",
        "from sklearn.naive_bayes import MultinomialNB\n",
        "from sklearn.metrics import accuracy_score, confusion_matrix, classification_report\n",
        "import nltk\n",
        "from nltk.corpus import stopwords\n",
        "import string\n",
        "import os\n",
        "\n",
        "# Ensure nltk stopwords are downloaded\n",
        "nltk.download('stopwords')\n"
      ],
      "metadata": {
        "colab": {
          "base_uri": "https://localhost:8080/"
        },
        "id": "F7ChlYCU5_6W",
        "outputId": "766dd3da-bafd-4eab-ab28-192b31586b2c"
      },
      "execution_count": 20,
      "outputs": [
        {
          "output_type": "stream",
          "name": "stderr",
          "text": [
            "[nltk_data] Downloading package stopwords to /root/nltk_data...\n",
            "[nltk_data]   Package stopwords is already up-to-date!\n"
          ]
        },
        {
          "output_type": "execute_result",
          "data": {
            "text/plain": [
              "True"
            ]
          },
          "metadata": {},
          "execution_count": 20
        }
      ]
    },
    {
      "cell_type": "markdown",
      "source": [
        "Load the Dataset"
      ],
      "metadata": {
        "id": "vdz24ekQ6RVW"
      }
    },
    {
      "cell_type": "code",
      "source": [
        "# Load dataset\n",
        "file_path = 'Spam_email_detection.csv'  # Update this path to your CSV file location\n",
        "if not os.path.exists(file_path):\n",
        "    print(f\"File not found: {file_path}\")\n",
        "    exit()\n",
        "\n",
        "data = pd.read_csv(file_path)\n",
        "\n",
        "# Display the column names to verify\n",
        "print(\"Column names in the dataset:\", data.columns.tolist())\n",
        "\n",
        "# Check the first few rows to understand the structure\n",
        "print(data.head())\n",
        "\n",
        "# Assuming the expected column names are 'v1' for label and 'v2' for message\n",
        "expected_columns = ['v1', 'v2']\n",
        "if not all(column in data.columns for column in expected_columns):\n",
        "    print(f\"Expected columns {expected_columns} not found in the dataset.\")\n",
        "    exit()\n"
      ],
      "metadata": {
        "colab": {
          "base_uri": "https://localhost:8080/"
        },
        "id": "6lgGj-CP6S1l",
        "outputId": "a5dba9b0-ee41-43da-e360-5ff7780a7c6a"
      },
      "execution_count": 21,
      "outputs": [
        {
          "output_type": "stream",
          "name": "stdout",
          "text": [
            "Column names in the dataset: ['v1', 'v2', 'Unnamed: 2', 'Unnamed: 3', 'Unnamed: 4']\n",
            "     v1                                                 v2 Unnamed: 2  \\\n",
            "0   ham  Go until jurong point, crazy.. Available only ...        NaN   \n",
            "1   ham                      Ok lar... Joking wif u oni...        NaN   \n",
            "2  spam  Free entry in 2 a wkly comp to win FA Cup fina...        NaN   \n",
            "3   ham  U dun say so early hor... U c already then say...        NaN   \n",
            "4   ham  Nah I don't think he goes to usf, he lives aro...        NaN   \n",
            "\n",
            "  Unnamed: 3 Unnamed: 4  \n",
            "0        NaN        NaN  \n",
            "1        NaN        NaN  \n",
            "2        NaN        NaN  \n",
            "3        NaN        NaN  \n",
            "4        NaN        NaN  \n"
          ]
        }
      ]
    },
    {
      "cell_type": "markdown",
      "source": [
        "Data Preprocessing"
      ],
      "metadata": {
        "id": "eexbmTw16X-1"
      }
    },
    {
      "cell_type": "code",
      "source": [
        "# Define stopwords\n",
        "stop_words = set(stopwords.words('english'))\n",
        "\n",
        "# Preprocessing function\n",
        "def preprocess_text(text):\n",
        "    if isinstance(text, str):\n",
        "        # Remove punctuation\n",
        "        text = text.translate(str.maketrans('', '', string.punctuation))\n",
        "        # Convert to lowercase\n",
        "        text = text.lower()\n",
        "        # Remove stopwords, but keep the words if it's the only content\n",
        "        text = ' '.join(word for word in text.split() if word not in stop_words or len(text.split()) == 1)\n",
        "    else:\n",
        "        text = ''\n",
        "    return text\n",
        "\n",
        "# Apply preprocessing to the 'v2' column (message)\n",
        "data['v2'] = data['v2'].apply(preprocess_text)\n"
      ],
      "metadata": {
        "id": "qiKUyA-X6Z2M"
      },
      "execution_count": 22,
      "outputs": []
    },
    {
      "cell_type": "markdown",
      "source": [
        "Feature Extraction with TF-IDF Vectorizer"
      ],
      "metadata": {
        "id": "5kbXCXSz6dIj"
      }
    },
    {
      "cell_type": "code",
      "source": [
        "# Feature Extraction with TF-IDF Vectorizer\n",
        "tfidf = TfidfVectorizer(max_features=5000, min_df=5, max_df=0.7)\n",
        "\n",
        "# Transform the text data to TF-IDF features\n",
        "try:\n",
        "    X = tfidf.fit_transform(data['v2']).toarray()\n",
        "    if not tfidf.vocabulary_:\n",
        "        raise ValueError(\"Empty vocabulary. Perhaps the documents only contain stop words.\")\n",
        "except ValueError as e:\n",
        "    print(f\"ValueError: {e}\")\n",
        "    exit()\n"
      ],
      "metadata": {
        "id": "EgA-CGpK6jmP"
      },
      "execution_count": 23,
      "outputs": []
    },
    {
      "cell_type": "markdown",
      "source": [
        "Define Labels and Split data"
      ],
      "metadata": {
        "id": "arXSSSI66mdG"
      }
    },
    {
      "cell_type": "code",
      "source": [
        "# Convert labels to binary\n",
        "y = data['v1'].apply(lambda x: 1 if x == 'spam' else 0)\n",
        "\n",
        "# Ensure consistency between X and y\n",
        "if X.shape[0] != y.shape[0]:\n",
        "    print(\"Inconsistent number of samples between X and y. Please check your data preprocessing steps.\")\n",
        "    exit()\n",
        "\n",
        "# Split Data into Training and Testing Sets\n",
        "X_train, X_test, y_train, y_test = train_test_split(X, y, test_size=0.2, random_state=42)\n"
      ],
      "metadata": {
        "id": "C56lgpL06o6w"
      },
      "execution_count": 24,
      "outputs": []
    },
    {
      "cell_type": "markdown",
      "source": [
        "Training the Model"
      ],
      "metadata": {
        "id": "jKmAulwb6sAY"
      }
    },
    {
      "cell_type": "code",
      "source": [
        "# Initialize the classifier\n",
        "model = MultinomialNB()\n",
        "\n",
        "# Train the model\n",
        "model.fit(X_train, y_train)\n"
      ],
      "metadata": {
        "colab": {
          "base_uri": "https://localhost:8080/",
          "height": 74
        },
        "id": "LLnbmUZc6tts",
        "outputId": "524bd663-ff4e-4f50-d7c3-df49e95e713e"
      },
      "execution_count": 25,
      "outputs": [
        {
          "output_type": "execute_result",
          "data": {
            "text/plain": [
              "MultinomialNB()"
            ],
            "text/html": [
              "<style>#sk-container-id-3 {color: black;background-color: white;}#sk-container-id-3 pre{padding: 0;}#sk-container-id-3 div.sk-toggleable {background-color: white;}#sk-container-id-3 label.sk-toggleable__label {cursor: pointer;display: block;width: 100%;margin-bottom: 0;padding: 0.3em;box-sizing: border-box;text-align: center;}#sk-container-id-3 label.sk-toggleable__label-arrow:before {content: \"▸\";float: left;margin-right: 0.25em;color: #696969;}#sk-container-id-3 label.sk-toggleable__label-arrow:hover:before {color: black;}#sk-container-id-3 div.sk-estimator:hover label.sk-toggleable__label-arrow:before {color: black;}#sk-container-id-3 div.sk-toggleable__content {max-height: 0;max-width: 0;overflow: hidden;text-align: left;background-color: #f0f8ff;}#sk-container-id-3 div.sk-toggleable__content pre {margin: 0.2em;color: black;border-radius: 0.25em;background-color: #f0f8ff;}#sk-container-id-3 input.sk-toggleable__control:checked~div.sk-toggleable__content {max-height: 200px;max-width: 100%;overflow: auto;}#sk-container-id-3 input.sk-toggleable__control:checked~label.sk-toggleable__label-arrow:before {content: \"▾\";}#sk-container-id-3 div.sk-estimator input.sk-toggleable__control:checked~label.sk-toggleable__label {background-color: #d4ebff;}#sk-container-id-3 div.sk-label input.sk-toggleable__control:checked~label.sk-toggleable__label {background-color: #d4ebff;}#sk-container-id-3 input.sk-hidden--visually {border: 0;clip: rect(1px 1px 1px 1px);clip: rect(1px, 1px, 1px, 1px);height: 1px;margin: -1px;overflow: hidden;padding: 0;position: absolute;width: 1px;}#sk-container-id-3 div.sk-estimator {font-family: monospace;background-color: #f0f8ff;border: 1px dotted black;border-radius: 0.25em;box-sizing: border-box;margin-bottom: 0.5em;}#sk-container-id-3 div.sk-estimator:hover {background-color: #d4ebff;}#sk-container-id-3 div.sk-parallel-item::after {content: \"\";width: 100%;border-bottom: 1px solid gray;flex-grow: 1;}#sk-container-id-3 div.sk-label:hover label.sk-toggleable__label {background-color: #d4ebff;}#sk-container-id-3 div.sk-serial::before {content: \"\";position: absolute;border-left: 1px solid gray;box-sizing: border-box;top: 0;bottom: 0;left: 50%;z-index: 0;}#sk-container-id-3 div.sk-serial {display: flex;flex-direction: column;align-items: center;background-color: white;padding-right: 0.2em;padding-left: 0.2em;position: relative;}#sk-container-id-3 div.sk-item {position: relative;z-index: 1;}#sk-container-id-3 div.sk-parallel {display: flex;align-items: stretch;justify-content: center;background-color: white;position: relative;}#sk-container-id-3 div.sk-item::before, #sk-container-id-3 div.sk-parallel-item::before {content: \"\";position: absolute;border-left: 1px solid gray;box-sizing: border-box;top: 0;bottom: 0;left: 50%;z-index: -1;}#sk-container-id-3 div.sk-parallel-item {display: flex;flex-direction: column;z-index: 1;position: relative;background-color: white;}#sk-container-id-3 div.sk-parallel-item:first-child::after {align-self: flex-end;width: 50%;}#sk-container-id-3 div.sk-parallel-item:last-child::after {align-self: flex-start;width: 50%;}#sk-container-id-3 div.sk-parallel-item:only-child::after {width: 0;}#sk-container-id-3 div.sk-dashed-wrapped {border: 1px dashed gray;margin: 0 0.4em 0.5em 0.4em;box-sizing: border-box;padding-bottom: 0.4em;background-color: white;}#sk-container-id-3 div.sk-label label {font-family: monospace;font-weight: bold;display: inline-block;line-height: 1.2em;}#sk-container-id-3 div.sk-label-container {text-align: center;}#sk-container-id-3 div.sk-container {/* jupyter's `normalize.less` sets `[hidden] { display: none; }` but bootstrap.min.css set `[hidden] { display: none !important; }` so we also need the `!important` here to be able to override the default hidden behavior on the sphinx rendered scikit-learn.org. See: https://github.com/scikit-learn/scikit-learn/issues/21755 */display: inline-block !important;position: relative;}#sk-container-id-3 div.sk-text-repr-fallback {display: none;}</style><div id=\"sk-container-id-3\" class=\"sk-top-container\"><div class=\"sk-text-repr-fallback\"><pre>MultinomialNB()</pre><b>In a Jupyter environment, please rerun this cell to show the HTML representation or trust the notebook. <br />On GitHub, the HTML representation is unable to render, please try loading this page with nbviewer.org.</b></div><div class=\"sk-container\" hidden><div class=\"sk-item\"><div class=\"sk-estimator sk-toggleable\"><input class=\"sk-toggleable__control sk-hidden--visually\" id=\"sk-estimator-id-3\" type=\"checkbox\" checked><label for=\"sk-estimator-id-3\" class=\"sk-toggleable__label sk-toggleable__label-arrow\">MultinomialNB</label><div class=\"sk-toggleable__content\"><pre>MultinomialNB()</pre></div></div></div></div></div>"
            ]
          },
          "metadata": {},
          "execution_count": 25
        }
      ]
    },
    {
      "cell_type": "markdown",
      "source": [
        "Model Evaluation"
      ],
      "metadata": {
        "id": "XSafSqLU6woc"
      }
    },
    {
      "cell_type": "code",
      "source": [
        "# Predict on the test set\n",
        "y_pred = model.predict(X_test)\n",
        "\n",
        "# Calculate accuracy\n",
        "accuracy = accuracy_score(y_test, y_pred)\n",
        "print(f'Accuracy: {accuracy:.2f}')\n",
        "\n",
        "# Get confusion matrix\n",
        "conf_matrix = confusion_matrix(y_test, y_pred)\n",
        "\n",
        "# Get classification report\n",
        "class_report = classification_report(y_test, y_pred, target_names=['ham', 'spam'], output_dict=True)\n",
        "\n",
        "# Print results\n",
        "print(\"\\n---------------------------------------------\")\n",
        "print(\"Classification Report:\")\n",
        "print(\"---------------------------------------------\")\n",
        "for label in ['ham', 'spam']:\n",
        "    print(f\"Class '{label}' Report:\")\n",
        "    print(f\"Precision: {class_report[label]['precision']:.2f}\")\n",
        "    print(f\"Recall: {class_report[label]['recall']:.2f}\")\n",
        "    print(f\"F1-Score: {class_report[label]['f1-score']:.2f}\")\n",
        "    print(f\"Support: {class_report[label]['support']}\")\n",
        "    print()\n",
        "\n",
        "print(\"---------------------------------------------\")\n",
        "print(\"Overall Report:\")\n",
        "print(\"---------------------------------------------\")\n",
        "print(f\"Accuracy: {accuracy:.2f}\")\n",
        "print(f\"\\nConfusion Matrix:\\n{conf_matrix}\")\n"
      ],
      "metadata": {
        "colab": {
          "base_uri": "https://localhost:8080/"
        },
        "id": "NSYsq_BQ60YJ",
        "outputId": "c1b4f986-b114-4280-ecee-438b09b6a478"
      },
      "execution_count": 26,
      "outputs": [
        {
          "output_type": "stream",
          "name": "stdout",
          "text": [
            "Accuracy: 0.98\n",
            "\n",
            "---------------------------------------------\n",
            "Classification Report:\n",
            "---------------------------------------------\n",
            "Class 'ham' Report:\n",
            "Precision: 0.97\n",
            "Recall: 1.00\n",
            "F1-Score: 0.99\n",
            "Support: 965\n",
            "\n",
            "Class 'spam' Report:\n",
            "Precision: 1.00\n",
            "Recall: 0.83\n",
            "F1-Score: 0.91\n",
            "Support: 150\n",
            "\n",
            "---------------------------------------------\n",
            "Overall Report:\n",
            "---------------------------------------------\n",
            "Accuracy: 0.98\n",
            "\n",
            "Confusion Matrix:\n",
            "[[965   0]\n",
            " [ 25 125]]\n"
          ]
        }
      ]
    },
    {
      "cell_type": "markdown",
      "source": [
        "Model Visualization"
      ],
      "metadata": {
        "id": "gXCVHDed6_mf"
      }
    },
    {
      "cell_type": "code",
      "source": [
        "# Visualizing the confusion matrix\n",
        "plt.figure(figsize=(8, 6))\n",
        "sns.heatmap(conf_matrix, annot=True, fmt='d', cmap='Blues', cbar=False)\n",
        "plt.xlabel('Predicted')\n",
        "plt.ylabel('Actual')\n",
        "plt.title('Confusion Matrix')\n",
        "plt.show()\n"
      ],
      "metadata": {
        "colab": {
          "base_uri": "https://localhost:8080/",
          "height": 564
        },
        "id": "Y-1WD7YW7Chx",
        "outputId": "6af5fd89-a684-4a19-f88d-600821d9e537"
      },
      "execution_count": 27,
      "outputs": [
        {
          "output_type": "display_data",
          "data": {
            "text/plain": [
              "<Figure size 800x600 with 1 Axes>"
            ],
            "image/png": "[encoded data removed]"
          },
          "metadata": {}
        }
      ]
    },
    {
      "cell_type": "code",
      "source": [
        "# Visualizing the Classification Report\n",
        "df_class_report = pd.DataFrame(class_report).transpose()\n",
        "\n",
        "plt.figure(figsize=(10, 5))\n",
        "sns.heatmap(df_class_report.iloc[:-3, :].T, annot=True, cmap='Blues', fmt=\".2f\", cbar=True)\n",
        "plt.title('Classification Report Heatmap')\n",
        "plt.show()"
      ],
      "metadata": {
        "colab": {
          "base_uri": "https://localhost:8080/",
          "height": 468
        },
        "id": "SCYlLTcs7F-0",
        "outputId": "731b17a1-9dae-4b19-8b07-bbd781829279"
      },
      "execution_count": 28,
      "outputs": [
        {
          "output_type": "display_data",
          "data": {
            "text/plain": [
              "<Figure size 1000x500 with 2 Axes>"
            ],
            "image/png": "[encoded data removed]"
          },
          "metadata": {}
        }
      ]
    }
  ]
}